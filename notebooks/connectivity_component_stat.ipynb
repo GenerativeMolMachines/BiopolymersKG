{
 "cells": [
  {
   "cell_type": "code",
   "execution_count": 1,
   "id": "a2e36f1c",
   "metadata": {
    "ExecuteTime": {
     "end_time": "2025-05-21T17:30:32.525172Z",
     "start_time": "2025-05-21T17:30:31.996033Z"
    }
   },
   "outputs": [
    {
     "data": {
      "text/plain": [
       "True"
      ]
     },
     "execution_count": 1,
     "metadata": {},
     "output_type": "execute_result"
    }
   ],
   "source": [
    "import os\n",
    "import dotenv\n",
    "import pandas as pd\n",
    "from neo4j import GraphDatabase\n",
    "\n",
    "from scripts.db_driver import DBDriver\n",
    "\n",
    "dotenv.load_dotenv()"
   ]
  },
  {
   "cell_type": "code",
   "execution_count": 2,
   "id": "7298f31b",
   "metadata": {
    "ExecuteTime": {
     "end_time": "2025-05-21T17:30:35.281759Z",
     "start_time": "2025-05-21T17:30:35.232377Z"
    }
   },
   "outputs": [
    {
     "name": "stdout",
     "output_type": "stream",
     "text": [
      "INFO:scripts.db_driver:connected to neoj4 instance\n"
     ]
    }
   ],
   "source": [
    "driver = DBDriver(\n",
    "    url=os.environ['NEO4J_URL'],\n",
    "    user=os.environ['NEO4J_USER'],\n",
    "    password=os.environ['NEO4J_PASSWORD']\n",
    ")"
   ]
  },
  {
   "cell_type": "markdown",
   "id": "1b689ab9",
   "metadata": {},
   "source": [
    "### get component statistics"
   ]
  },
  {
   "cell_type": "markdown",
   "id": "236209f1",
   "metadata": {},
   "source": [
    "#### nodes"
   ]
  },
  {
   "cell_type": "code",
   "execution_count": 3,
   "id": "474eee55",
   "metadata": {
    "ExecuteTime": {
     "end_time": "2025-05-21T17:31:45.192382Z",
     "start_time": "2025-05-21T17:31:26.011400Z"
    }
   },
   "outputs": [
    {
     "name": "stdout",
     "output_type": "stream",
     "text": [
      "INFO:scripts.db_driver:query executed successfully\n",
      "INFO:scripts.db_driver:got 831795 items\n"
     ]
    }
   ],
   "source": [
    "res_df = driver.select_as_df(\"\"\"\n",
    "        match (n)\n",
    "        return distinct n.componentId as component_id,\n",
    "        count(n) as nodes_count,\n",
    "        collect(distinct labels(n)) as component_labels\n",
    "        order by nodes_count desc\n",
    "    \"\"\")"
   ]
  },
  {
   "cell_type": "code",
   "execution_count": 4,
   "id": "28526f65",
   "metadata": {
    "ExecuteTime": {
     "end_time": "2025-05-21T17:31:56.950709Z",
     "start_time": "2025-05-21T17:31:56.948069Z"
    }
   },
   "outputs": [],
   "source": [
    "component_df = res_df"
   ]
  },
  {
   "cell_type": "code",
   "execution_count": 9,
   "id": "da5e050de5c979c9",
   "metadata": {
    "ExecuteTime": {
     "end_time": "2025-05-21T17:37:18.618091Z",
     "start_time": "2025-05-21T17:37:18.585201Z"
    }
   },
   "outputs": [
    {
     "data": {
      "text/html": [
       "<div>\n",
       "<style scoped>\n",
       "    .dataframe tbody tr th:only-of-type {\n",
       "        vertical-align: middle;\n",
       "    }\n",
       "\n",
       "    .dataframe tbody tr th {\n",
       "        vertical-align: top;\n",
       "    }\n",
       "\n",
       "    .dataframe thead th {\n",
       "        text-align: right;\n",
       "    }\n",
       "</style>\n",
       "<table border=\"1\" class=\"dataframe\">\n",
       "  <thead>\n",
       "    <tr style=\"text-align: right;\">\n",
       "      <th></th>\n",
       "      <th>component_id</th>\n",
       "      <th>component_labels</th>\n",
       "    </tr>\n",
       "    <tr>\n",
       "      <th>nodes_count</th>\n",
       "      <th></th>\n",
       "      <th></th>\n",
       "    </tr>\n",
       "  </thead>\n",
       "  <tbody>\n",
       "    <tr>\n",
       "      <th>1</th>\n",
       "      <td>829293</td>\n",
       "      <td>829293</td>\n",
       "    </tr>\n",
       "    <tr>\n",
       "      <th>2</th>\n",
       "      <td>900</td>\n",
       "      <td>900</td>\n",
       "    </tr>\n",
       "    <tr>\n",
       "      <th>3</th>\n",
       "      <td>504</td>\n",
       "      <td>504</td>\n",
       "    </tr>\n",
       "    <tr>\n",
       "      <th>4</th>\n",
       "      <td>233</td>\n",
       "      <td>233</td>\n",
       "    </tr>\n",
       "    <tr>\n",
       "      <th>5</th>\n",
       "      <td>187</td>\n",
       "      <td>187</td>\n",
       "    </tr>\n",
       "    <tr>\n",
       "      <th>...</th>\n",
       "      <td>...</td>\n",
       "      <td>...</td>\n",
       "    </tr>\n",
       "    <tr>\n",
       "      <th>424</th>\n",
       "      <td>1</td>\n",
       "      <td>1</td>\n",
       "    </tr>\n",
       "    <tr>\n",
       "      <th>824</th>\n",
       "      <td>0</td>\n",
       "      <td>1</td>\n",
       "    </tr>\n",
       "    <tr>\n",
       "      <th>957</th>\n",
       "      <td>1</td>\n",
       "      <td>1</td>\n",
       "    </tr>\n",
       "    <tr>\n",
       "      <th>1659</th>\n",
       "      <td>1</td>\n",
       "      <td>1</td>\n",
       "    </tr>\n",
       "    <tr>\n",
       "      <th>531606</th>\n",
       "      <td>1</td>\n",
       "      <td>1</td>\n",
       "    </tr>\n",
       "  </tbody>\n",
       "</table>\n",
       "<p>84 rows × 2 columns</p>\n",
       "</div>"
      ],
      "text/plain": [
       "             component_id  component_labels\n",
       "nodes_count                                \n",
       "1                  829293            829293\n",
       "2                     900               900\n",
       "3                     504               504\n",
       "4                     233               233\n",
       "5                     187               187\n",
       "...                   ...               ...\n",
       "424                     1                 1\n",
       "824                     0                 1\n",
       "957                     1                 1\n",
       "1659                    1                 1\n",
       "531606                  1                 1\n",
       "\n",
       "[84 rows x 2 columns]"
      ]
     },
     "execution_count": 9,
     "metadata": {},
     "output_type": "execute_result"
    }
   ],
   "source": [
    "component_df.groupby('nodes_count').count()"
   ]
  },
  {
   "cell_type": "code",
   "execution_count": null,
   "id": "367be8e2420d04e9",
   "metadata": {},
   "outputs": [],
   "source": []
  }
 ],
 "metadata": {
  "kernelspec": {
   "display_name": "kg",
   "language": "python",
   "name": "python3"
  },
  "language_info": {
   "codemirror_mode": {
    "name": "ipython",
    "version": 3
   },
   "file_extension": ".py",
   "mimetype": "text/x-python",
   "name": "python",
   "nbconvert_exporter": "python",
   "pygments_lexer": "ipython3",
   "version": "3.11.11"
  }
 },
 "nbformat": 4,
 "nbformat_minor": 5
}
