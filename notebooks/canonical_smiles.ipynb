{
 "cells": [
  {
   "cell_type": "code",
   "execution_count": 3,
   "id": "1a49942c",
   "metadata": {},
   "outputs": [],
   "source": [
    "import os\n",
    "import dotenv\n",
    "\n",
    "import rdkit\n",
    "import pandas as pd\n",
    "from neo4j import GraphDatabase\n",
    "\n",
    "dotenv.load_dotenv()\n",
    "os.chdir(os.environ['PYTHONPATH'])"
   ]
  },
  {
   "cell_type": "code",
   "execution_count": 4,
   "id": "40ad453e",
   "metadata": {},
   "outputs": [],
   "source": [
    "driver = GraphDatabase.driver(\n",
    "    uri=os.environ['NEO4J_URL'],\n",
    "    auth=(os.environ['NEO4J_USER'], os.environ['NEO4J_PASSWORD'])\n",
    ")"
   ]
  },
  {
   "cell_type": "code",
   "execution_count": 3,
   "id": "2d47759a",
   "metadata": {},
   "outputs": [
    {
     "name": "stderr",
     "output_type": "stream",
     "text": [
      "Received notification from DBMS server: {severity: WARNING} {code: Neo.ClientNotification.Statement.FeatureDeprecationWarning} {category: DEPRECATION} {title: This feature is deprecated and will be removed in future versions.} {description: The query used a deprecated function: `id`.} {position: line: 2, column: 88, offset: 88} for query: '\\n        match (n:small_molecule) return distinct n.name as name, n.content as content, id(n) as nodeid\\n        '\n"
     ]
    }
   ],
   "source": [
    "with driver.session(database=\"neo4j\") as session:\n",
    "    smiles = session.run(\"\"\"\n",
    "        match (n:small_molecule) return distinct n.name as name, n.content as content, id(n) as nodeid\n",
    "        \"\"\")\n",
    "    smiles_df = smiles.to_df()"
   ]
  },
  {
   "cell_type": "code",
   "execution_count": 4,
   "id": "86b0afaa",
   "metadata": {},
   "outputs": [
    {
     "data": {
      "application/vnd.microsoft.datawrangler.viewer.v0+json": {
       "columns": [
        {
         "name": "index",
         "rawType": "int64",
         "type": "integer"
        },
        {
         "name": "name",
         "rawType": "object",
         "type": "unknown"
        },
        {
         "name": "content",
         "rawType": "object",
         "type": "string"
        },
        {
         "name": "nodeid",
         "rawType": "int64",
         "type": "integer"
        }
       ],
       "ref": "119e1b18-85ad-4b50-8487-d5db55a686ea",
       "rows": [
        [
         "0",
         "Hypusine",
         "NCCC(O)CNCCCCCC(=O)O",
         "12559"
        ],
        [
         "1",
         "2-[3-(2-HYDROXY-1,1-DIHYDROXYMETHYL-ETHYLAMINO)-PROPYLAMINO]-2-HYDROXYMETHYL-PROPANE-1,3-DIOL",
         "OCC(CO)NCCCNC(CO)(CO)CO",
         "12560"
        ],
        [
         "2",
         "3,6,9,12,15,18,21,24,27,30,33,36,39,42,45,48,51,54,57-nonadecaoxanonapentacontane-1,59-diol",
         "OCCOCCOCCOCCOCCOCCOCCOCCOCCOCCOCCOCCOCCOCCOCCOCCOCCOCCOCCOCCO",
         "12561"
        ],
        [
         "3",
         "2-(2-HYDROXY-1,1-DIHYDROXYMETHYL-ETHYLAMINO)-ETHANESULFONIC ACID",
         "O=S(=O)(O)CCNC(CO)CO",
         "12562"
        ],
        [
         "4",
         "6-O-alpha-D-mannopyranosyl-alpha-D-mannopyranose",
         "CC1OC(OCC2OC(O)C(O)C(O)C2O)C(O)C(O)C1O",
         "12563"
        ],
        [
         "5",
         "2-{(1E,3Z,5E,7E)-7-[3,3-DIMETHYL-5-SULFO-1-(2-SULFOETHYL)-1,3-DIHYDRO-2H-INDOL-2-YLIDENE]-4-METHYLHEPTA-1,3,5-TRIEN-1-YL}-3,3-DIMETHYL-5-SULFO-1-(2-SULFOETHYL)-3H-INDOLIUM",
         "CC(C=CC=C1C(C)c2cc(S(=O)(=O)O)ccc2N1CCS(=O)(=O)O)=CC=CC1=[N+](CCS(=O)(=O)O)c2ccc(S(=O)(=O)O)cc2C1(C)C",
         "12564"
        ],
        [
         "6",
         "(1E)-PROP-1-EN-1-YL 3-DEOXY-7-O-METHYL-ALPHA-D-MANNO-OCT-2-ULOPYRANOSIDONIC ACID",
         "CC=COC1(C=O)CC(O)C(O)C(C(CO)OC)O1",
         "12565"
        ],
        [
         "7",
         "3,5,3',5'-TETRAIODO-L-THYRONINE",
         "O=C(O)[CH]Cc1cc(I)c(Oc2cc(I)c(O)c(I)c2)c(I)c1",
         "12566"
        ],
        [
         "8",
         "4-HYDROXY-5-IODO-3-NITROPHENYLACETYL-EPSILON-AMINOCAPROIC ACID ANION",
         "O=C([O-])CCCCCNC(=O)Cc1cc(I)c(O)c([N+](=O)[O-])c1",
         "12567"
        ],
        [
         "9",
         "4-(2,7-DIFLUORO-6-HYDROXY-3-OXO-3H-XANTHEN-9-YL)ISOPHTHALIC ACID",
         "O=C(O)c1ccc(-c2c3cc(F)c(=O)cc-3oc3cc(O)c(F)cc23)c(C(=O)O)c1",
         "12568"
        ],
        [
         "10",
         "4-HYDROXY-3-NITROPHENYLACETYL-EPSILON-AMINOCAPROIC ACID",
         "O=C(O)CCCCCNC(=O)Cc1cccc([N+](=O)[O-])c1",
         "12569"
        ],
        [
         "11",
         "4-HYDROXY-3-NITROPHENYLACETYL-EPSILON-AMINOCAPROIC ACID ANION",
         "O=C([O-])CCCCCNC(=O)Cc1cccc([N+](=O)[O-])c1",
         "12570"
        ],
        [
         "12",
         "2-(4-HYDROXY-3-NITROPHENYL)ACETIC ACID",
         "O=C(O)Cc1cccc([N+](=O)[O-])c1",
         "12571"
        ],
        [
         "13",
         "3-HYDROXY-7-(4-{1-[2-HYDROXY-3-(2-HYDROXY-5-SULFO-PHENYLAZO)-BENZYL]-2-SULFO-ETHYLAMINO}-[1,2,5]TRIAZIN-2-YLAMINO)-2-(2-HYDROXY-5-SULFO-PHENYLAZO)-NAPTHALENE-1,8-DISULFONIC ACID",
         "O=S(=O)(O)c1cccc(N=Nc2c(S(=O)(=O)O)cc3c(S(=O)(=O)O)c(Nc4ncnc(Nc5ccc6c(O)c(N=Nc7cc(S(=O)(=O)O)ccc7O)c(S(=O)(=O)O)cc6c5S(=O)(=O)O)n4)ccc3c2O)c1",
         "12572"
        ],
        [
         "14",
         "2,4-DINITROPHENOL",
         "O=[N+]([O-])c1cccc([N+](=O)[O-])c1",
         "12573"
        ],
        [
         "15",
         "5-(5-(3-hydroxyphenyl)thiophen-2-yl)pentanoic acid",
         "O=CCCCCc1ccc(-c2cccc(O)c2)s1",
         "12574"
        ],
        [
         "16",
         "PARA-NITROBENZYL GLUTARYL GLYCINIC ACID",
         "O=C(O)CNC(=O)CCCC(=O)NCc1ccc([N+](=O)[O-])cc1",
         "12575"
        ],
        [
         "17",
         "PARANITROBENZYL ALCOHOL",
         "O=[N+]([O-])c1ccc(CO)cc1",
         "12576"
        ],
        [
         "18",
         "4-NITRO-BENZYLPHOSPHONOBUTANOYL-GLYCINE",
         "O=C(O)CNC(=O)CCCP(=O)(O)OCc1ccc([N+](=O)[O-])cc1",
         "12577"
        ],
        [
         "19",
         "5-[(2R,3R)-2-[2,2-bis(chloranyl)ethanoylamino]-3-(4-nitrophenyl)-3-[oxidanyl-[[4-[2,2,2-tris(fluoranyl)ethanoylamino]phenyl]methyl]phosphoryl]oxy-propoxy]-5-oxidanylidene-pentanoic acid",
         "O=C(O)CCCC(=O)OCC(NC(=O)C(Cl)Cl)C(OP(=O)(O)Cc1ccc(NC(=O)C(F)F)cc1)c1ccc([N+](=O)[O-])cc1",
         "12578"
        ],
        [
         "20",
         "[(1-[(BIS-CARBOXYMETHYL-AMINO)-METHYL]-2-{4-[3-(2-HYDROXY-ETHYL)-THIOUREIDO]-PHENY}-ETHYL)-CARBOXYMETHYL-AMINO]-ACETIC ACID",
         "CCNC(=S)Nc1ccc(CC(CN(CC(=O)O)CC(=O)O)N(CC(=O)O)CC(=O)O)cc1",
         "12579"
        ],
        [
         "21",
         "4-[(1S,2R)-3-(4-FLUOROPHENYL)-2-HYDROXY-1-(1H-1,2,4-TRIAZOL-1-YL)PROPYL]BENZONITRILE",
         "N#Cc1ccc(C(C(O)Cc2ccccc2)n2cncn2)cc1",
         "12580"
        ],
        [
         "22",
         "['4-AMINO-N-(1,3-THIAZOL-2-YL)BENZENESULFONAMIDE', '2-(Sulfanilylamino)thiazole::2-(p-Aminobenzenesulfonamido)thiazole::2-(p-Aminobenzenesulphonamido)thiazole::2-Sulfanilamidothiazol::2-Sulfanilamidothiazole::2-Sulfonamidothiazole::4-Amino-N-2-thiazolylbenzenesulfonamide::4-amino-N-1,3-thiazol-2-ylbenzenesulfonamide::CHEMBL437::N(1)-2-Thiazolylsulfanilamide::Sulfanilamidothiazole::Sulfathiazole::Sulphathiazole::cid_5340']",
         "Nc1ccc(S(=O)(=O)Nc2nccs2)cc1",
         "12581"
        ],
        [
         "23",
         "N-(4-chlorophenyl)-N'-(3,4-dichlorophenyl)urea",
         "O=C(Nc1ccccc1)Nc1ccc(Cl)c(Cl)c1",
         "12582"
        ],
        [
         "24",
         "CHLORAMPHENICOL",
         "[O][N+](=O)c1ccc(C(O)C(CO)NC(=O)C(Cl)Cl)cc1",
         "12583"
        ],
        [
         "25",
         "['P-NITROPHENOL', 'NITROBENZENE']",
         "O=[N+]([O-])c1ccccc1",
         "12584"
        ],
        [
         "26",
         "PARA-NITROPHENYLPHOSPHONOBUTANOYL-GLYCINE",
         "O=C(O)CNC(=O)CCC[PH](=O)Oc1ccc([N+](=O)[O-])cc1",
         "12585"
        ],
        [
         "27",
         "6-{4-[HYDROXY-(4-NITRO-PHENOXY)-PHOSPHORYL]-BUTYRYLAMINO}-HEXANOIC ACID",
         "O=C(O)CCCCCNC(=O)CCCP(=O)(O)Oc1ccc([N+](=O)[O-])cc1",
         "12586"
        ],
        [
         "28",
         "5-(PARA-NITROPHENYL PHOSPHONATE)-PENTANOIC ACID",
         "[O]P(=O)(CCCCC(=O)O)Oc1ccc([N+](=O)[O-])cc1",
         "12587"
        ],
        [
         "29",
         "5-[(2-AMINO-1H-BENZIMIDAZOL-6-YL)AMINO]-5-OXOPENTANOIC ACID",
         "O=C(O)CCCC(=O)Nc1ccc2nc[nH]c2c1",
         "12588"
        ],
        [
         "30",
         "(2~{S})-2-azanyl-3-(7-oxidanyl-2-oxidanylidene-chromen-4-yl)propanoic acid",
         "O=C(O)[CH]Cc1cc(=O)oc2cc(O)ccc12",
         "12589"
        ],
        [
         "31",
         "['ACENAPHTHENEQUINONE', '1,2-Dione-Based Compound, 10::1,2-dihydroacenaphthylenedione']",
         "O=C1C(=O)c2cccc3cccc1c23",
         "12590"
        ],
        [
         "32",
         "['2-(6-HYDROXY-3-OXO-3H-XANTHEN-9-YL)-BENZOIC ACID', \"2-(3-hydroxy-6-oxo-6H-xanthen-9-yl)benzoic acid::2-(6-Hydroxy-3-oxo-3H-xanthen-9-yl)-benzoic acid::2-(6-oxido-3-oxo-3H-xanthen-9-yl)benzoate::3',6'-dihydroxyspiro[1,3-dihydroisobenzofuran-1,9'-(9'H-xanthene)]-3-one::CHEMBL177756::FLUORESCEIN::Fluorescite::Funduscein-25::cid_3383\"]",
         "O=C(O)c1ccccc1-c1c2ccc(=O)cc-2oc2cc(O)ccc12",
         "12591"
        ],
        [
         "33",
         "FLUORESCIN",
         "O=Cc1ccccc1C1c2ccc(O)cc2Oc2cc(O)ccc21",
         "12592"
        ],
        [
         "34",
         "4-(4-STYRYL-PHENYLCARBAMOYL)-BUTYRIC ACID",
         "O=CCCCC(=O)Nc1ccc(C=Cc2ccccc2)cc1",
         "12593"
        ],
        [
         "35",
         "4-{[(Z)-(5-OXO-2-PHENYL-1,3-OXAZOL-4(5H)-YLIDENE)METHYL]AMINO}BUTANOIC ACID",
         "O=C(O)CCCN=Cc1nc(-c2ccccc2)oc1O",
         "12594"
        ],
        [
         "36",
         "N-{[2-({[1-(4-CARBOXYBUTANOYL)AMINO]-2-PHENYLETHYL}-HYDROXYPHOSPHINYL)OXY]ACETYL}-2-PHENYLETHYLAMINE",
         "O=C(O)CCCC(=O)NC(Cc1ccccc1)P(=O)(O)OCC(=O)NCCc1ccccc1",
         "12595"
        ],
        [
         "37",
         "1-(17-amino-5,8-dioxo-12,15-dioxa-4,9-diazaheptadecan-1-yl)-4-{[3-(3-sulfopropyl)-1,3-benzothiazol-3-ium-2-yl]methyl}quinolin-1-ium",
         "NCCOCCOCCNC(=O)CCC(=O)NCCC[n+]1ccc(Cc2sc3ccccc3[n+]2CCC[SH](=O)=O)c2ccccc21",
         "12596"
        ],
        [
         "38",
         "['ALIZARIN RED', '1,2-Anthraquinonediol::1,2-dihydroxy-9,10-anthraquinone::1,2-dihydroxyanthra-9,10-quinone::1,2-dihydroxyanthracene-9,10-dione::Alizarin B::Alizarin Red::CHEMBL55814::Turkey Red::US20230364057, Compound 256::alizarin', '1,2-Anthraquinonediol::1,2-dihydroxy-9,10-anthraquinone::1,2-dihydroxyanthra-9,10-quinone::1,2-dihydroxyanthracene-9,10-dione::Alizarin B::Alizarin Red::CHEMBL55814::Turkey Red::alizarin']",
         "O=C1c2ccccc2C(=O)c2c1ccc(O)c2O",
         "12597"
        ],
        [
         "39",
         "['benzo[a]pyren-3-ol', '(B(a)P)::3,4-BP::3,4-Benzopyrene::3,4-Benzpyrene::Benzo(a)pyrene::CHEMBL31184::benzo[a]pyrene::benzo[def]chrysene::benzo[pqr]tetraphene']",
         "c1ccc2c(c1)cc1ccc3cccc4ccc2c1c34",
         "12598"
        ],
        [
         "40",
         "2-HYDROXY-(5-([4-(2-PYRIDINYLAMINO)SULFONYL]PHENYL)AZO)BENZOIC ACID",
         "O=Cc1cc(N=Nc2ccc(S(=O)(=O)Nc3ccccn3)cc2)ccc1O",
         "12599"
        ],
        [
         "41",
         "['INOSINE', 'inosine']",
         "O=c1[nH]cnc2c1ncn2C1OC(CO)C(O)C1O",
         "12600"
        ],
        [
         "42",
         "INOSINE-5'-DIPHOSPHATE",
         "O=c1[nH]cnc2c1ncn2C1OC(COP(=O)(O)OP(=O)(O)O)C(O)C1O",
         "12601"
        ],
        [
         "43",
         "['ANTHRONE', '9(10H)-anthracenone::9,10-dihydro-9-oxoanthracene::9-oxoanthracene::Az-O::CHEMBL124440::anthracen-9(10H)-one::anthranone::anthrone::carbothrone']",
         "O=C1c2ccccc2Cc2ccccc21",
         "12602"
        ],
        [
         "44",
         "(2R)-3-(CYCLOHEXYLAMINO)-2-HYDROXYPROPANE-1-SULFONIC ACID",
         "O=S(=O)(O)C[CH]CNC1CCCCC1",
         "12605"
        ],
        [
         "45",
         "N-(PARA-GLUTARAMIDOPHENYL-ETHYL)-PIPERIDINIUM-N-OXIDE",
         "O=C(O)CCCC(=O)Nc1ccc(CC[N+]2([O-])CCCCC2)cc1",
         "12606"
        ],
        [
         "46",
         "['2-(4-AMINOBENZYLAMINO)-3,4,5,6-TETRAHYDROPYRIDINIUM', '6N-benzyl-2,3,4,5-tetrahydro-6-pyridiniumamine']",
         "c1ccc(CNC2=[NH+]CCCC2)cc1",
         "12607"
        ],
        [
         "47",
         "(S)-2-(4-(2-(2-HYDROXYETHYLTHIO)-ACETAMIDO)-BENZYL)-1,4,7,10-TETRAAZACYCLODODECANE-N,N',N'',N'''-TETRAACETATE",
         "O=CCN1CCN(CC(=O)O)CCN(CC(=O)O)CC(Cc2ccc(NC(=O)CSCCO)cc2)N(CC(=O)O)CC1",
         "12608"
        ],
        [
         "48",
         "(S)-2-(4-NITROBENZYL)-1,4,7,10-TETRAAZACYCLODODECANE-N,N',N'',N'''-TETRAACETATE",
         "O=CCN1CCN(CC(=O)O)CCN(CC(=O)O)CC(Cc2ccc([N+](=O)[O-])cc2)N(CC(=O)O)CC1",
         "12609"
        ],
        [
         "49",
         "FURAZOLIDONE",
         "O=C1OCCN1N=Cc1ccc([N+](=O)[O-])o1",
         "12610"
        ]
       ],
       "shape": {
        "columns": 3,
        "rows": 1264340
       }
      },
      "text/html": [
       "<div>\n",
       "<style scoped>\n",
       "    .dataframe tbody tr th:only-of-type {\n",
       "        vertical-align: middle;\n",
       "    }\n",
       "\n",
       "    .dataframe tbody tr th {\n",
       "        vertical-align: top;\n",
       "    }\n",
       "\n",
       "    .dataframe thead th {\n",
       "        text-align: right;\n",
       "    }\n",
       "</style>\n",
       "<table border=\"1\" class=\"dataframe\">\n",
       "  <thead>\n",
       "    <tr style=\"text-align: right;\">\n",
       "      <th></th>\n",
       "      <th>name</th>\n",
       "      <th>content</th>\n",
       "      <th>nodeid</th>\n",
       "    </tr>\n",
       "  </thead>\n",
       "  <tbody>\n",
       "    <tr>\n",
       "      <th>0</th>\n",
       "      <td>Hypusine</td>\n",
       "      <td>NCCC(O)CNCCCCCC(=O)O</td>\n",
       "      <td>12559</td>\n",
       "    </tr>\n",
       "    <tr>\n",
       "      <th>1</th>\n",
       "      <td>2-[3-(2-HYDROXY-1,1-DIHYDROXYMETHYL-ETHYLAMINO...</td>\n",
       "      <td>OCC(CO)NCCCNC(CO)(CO)CO</td>\n",
       "      <td>12560</td>\n",
       "    </tr>\n",
       "    <tr>\n",
       "      <th>2</th>\n",
       "      <td>3,6,9,12,15,18,21,24,27,30,33,36,39,42,45,48,5...</td>\n",
       "      <td>OCCOCCOCCOCCOCCOCCOCCOCCOCCOCCOCCOCCOCCOCCOCCO...</td>\n",
       "      <td>12561</td>\n",
       "    </tr>\n",
       "    <tr>\n",
       "      <th>3</th>\n",
       "      <td>2-(2-HYDROXY-1,1-DIHYDROXYMETHYL-ETHYLAMINO)-E...</td>\n",
       "      <td>O=S(=O)(O)CCNC(CO)CO</td>\n",
       "      <td>12562</td>\n",
       "    </tr>\n",
       "    <tr>\n",
       "      <th>4</th>\n",
       "      <td>6-O-alpha-D-mannopyranosyl-alpha-D-mannopyranose</td>\n",
       "      <td>CC1OC(OCC2OC(O)C(O)C(O)C2O)C(O)C(O)C1O</td>\n",
       "      <td>12563</td>\n",
       "    </tr>\n",
       "    <tr>\n",
       "      <th>...</th>\n",
       "      <td>...</td>\n",
       "      <td>...</td>\n",
       "      <td>...</td>\n",
       "    </tr>\n",
       "    <tr>\n",
       "      <th>1264335</th>\n",
       "      <td>Voriconazole</td>\n",
       "      <td>CC(C1=NC=NC=C1F)C(CN2C=NC=N2)(C3=C(C=C(C=C3)F)F)O</td>\n",
       "      <td>1381896</td>\n",
       "    </tr>\n",
       "    <tr>\n",
       "      <th>1264336</th>\n",
       "      <td>4-Hydroxy-2-oxoglutaric acid</td>\n",
       "      <td>C(C(C(=O)O)O)C(=O)C(=O)O</td>\n",
       "      <td>1381897</td>\n",
       "    </tr>\n",
       "    <tr>\n",
       "      <th>1264337</th>\n",
       "      <td>Mycophenolic acid</td>\n",
       "      <td>CC1=C2COC(=O)C2=C(C(=C1OC)CC=C(C)CCC(=O)O)O</td>\n",
       "      <td>1381898</td>\n",
       "    </tr>\n",
       "    <tr>\n",
       "      <th>1264338</th>\n",
       "      <td>Dermatan Sulfate</td>\n",
       "      <td>CC(=O)NC1C(C(C(OC1O)CO)OS(=O)(=O)[O-])OC2C(C(C...</td>\n",
       "      <td>1381899</td>\n",
       "    </tr>\n",
       "    <tr>\n",
       "      <th>1264339</th>\n",
       "      <td>Amphetamine</td>\n",
       "      <td>CC(CC1=CC=CC=C1)N</td>\n",
       "      <td>1381901</td>\n",
       "    </tr>\n",
       "  </tbody>\n",
       "</table>\n",
       "<p>1264340 rows × 3 columns</p>\n",
       "</div>"
      ],
      "text/plain": [
       "                                                      name  \\\n",
       "0                                                 Hypusine   \n",
       "1        2-[3-(2-HYDROXY-1,1-DIHYDROXYMETHYL-ETHYLAMINO...   \n",
       "2        3,6,9,12,15,18,21,24,27,30,33,36,39,42,45,48,5...   \n",
       "3        2-(2-HYDROXY-1,1-DIHYDROXYMETHYL-ETHYLAMINO)-E...   \n",
       "4         6-O-alpha-D-mannopyranosyl-alpha-D-mannopyranose   \n",
       "...                                                    ...   \n",
       "1264335                                       Voriconazole   \n",
       "1264336                       4-Hydroxy-2-oxoglutaric acid   \n",
       "1264337                                  Mycophenolic acid   \n",
       "1264338                                   Dermatan Sulfate   \n",
       "1264339                                        Amphetamine   \n",
       "\n",
       "                                                   content   nodeid  \n",
       "0                                     NCCC(O)CNCCCCCC(=O)O    12559  \n",
       "1                                  OCC(CO)NCCCNC(CO)(CO)CO    12560  \n",
       "2        OCCOCCOCCOCCOCCOCCOCCOCCOCCOCCOCCOCCOCCOCCOCCO...    12561  \n",
       "3                                     O=S(=O)(O)CCNC(CO)CO    12562  \n",
       "4                   CC1OC(OCC2OC(O)C(O)C(O)C2O)C(O)C(O)C1O    12563  \n",
       "...                                                    ...      ...  \n",
       "1264335  CC(C1=NC=NC=C1F)C(CN2C=NC=N2)(C3=C(C=C(C=C3)F)F)O  1381896  \n",
       "1264336                           C(C(C(=O)O)O)C(=O)C(=O)O  1381897  \n",
       "1264337        CC1=C2COC(=O)C2=C(C(=C1OC)CC=C(C)CCC(=O)O)O  1381898  \n",
       "1264338  CC(=O)NC1C(C(C(OC1O)CO)OS(=O)(=O)[O-])OC2C(C(C...  1381899  \n",
       "1264339                                  CC(CC1=CC=CC=C1)N  1381901  \n",
       "\n",
       "[1264340 rows x 3 columns]"
      ]
     },
     "execution_count": 4,
     "metadata": {},
     "output_type": "execute_result"
    }
   ],
   "source": [
    "smiles_df"
   ]
  },
  {
   "cell_type": "code",
   "execution_count": 5,
   "id": "507252db",
   "metadata": {},
   "outputs": [
    {
     "name": "stderr",
     "output_type": "stream",
     "text": [
      "[22:33:01] WARNING: not removing hydrogen atom without neighbors\n",
      "[22:33:01] WARNING: not removing hydrogen atom without neighbors\n",
      "[22:36:21] WARNING: not removing hydrogen atom without neighbors\n",
      "[22:36:21] WARNING: not removing hydrogen atom without neighbors\n",
      "[22:36:21] WARNING: not removing hydrogen atom without neighbors\n",
      "[22:36:21] WARNING: not removing hydrogen atom without neighbors\n",
      "[22:36:21] WARNING: not removing hydrogen atom without neighbors\n",
      "[22:36:21] WARNING: not removing hydrogen atom without neighbors\n",
      "[22:36:21] WARNING: not removing hydrogen atom without neighbors\n",
      "[22:36:21] WARNING: not removing hydrogen atom without neighbors\n",
      "[22:36:21] WARNING: not removing hydrogen atom without neighbors\n",
      "[22:36:21] WARNING: not removing hydrogen atom without neighbors\n",
      "[22:36:21] WARNING: not removing hydrogen atom without neighbors\n",
      "[22:36:21] WARNING: not removing hydrogen atom without neighbors\n",
      "[22:36:21] WARNING: not removing hydrogen atom without neighbors\n",
      "[22:36:21] WARNING: not removing hydrogen atom without neighbors\n",
      "[22:36:21] WARNING: not removing hydrogen atom without neighbors\n",
      "[22:36:21] WARNING: not removing hydrogen atom without neighbors\n",
      "[22:36:21] WARNING: not removing hydrogen atom without neighbors\n",
      "[22:36:21] WARNING: not removing hydrogen atom without neighbors\n",
      "[22:36:21] WARNING: not removing hydrogen atom without neighbors\n",
      "[22:36:21] WARNING: not removing hydrogen atom without neighbors\n",
      "[22:36:21] WARNING: not removing hydrogen atom without neighbors\n",
      "[22:36:21] WARNING: not removing hydrogen atom without neighbors\n",
      "[22:36:21] WARNING: not removing hydrogen atom without neighbors\n",
      "[22:36:21] WARNING: not removing hydrogen atom without neighbors\n",
      "[22:36:21] WARNING: not removing hydrogen atom without neighbors\n",
      "[22:36:21] WARNING: not removing hydrogen atom without neighbors\n",
      "[22:36:21] WARNING: not removing hydrogen atom without neighbors\n",
      "[22:36:21] WARNING: not removing hydrogen atom without neighbors\n",
      "[22:36:21] WARNING: not removing hydrogen atom without neighbors\n",
      "[22:36:21] WARNING: not removing hydrogen atom without neighbors\n",
      "[22:36:21] WARNING: not removing hydrogen atom without neighbors\n",
      "[22:36:21] WARNING: not removing hydrogen atom without neighbors\n",
      "[22:36:21] WARNING: not removing hydrogen atom without neighbors\n",
      "[22:36:21] WARNING: not removing hydrogen atom without neighbors\n",
      "[22:36:21] WARNING: not removing hydrogen atom without neighbors\n",
      "[22:36:21] WARNING: not removing hydrogen atom without neighbors\n",
      "[22:36:21] WARNING: not removing hydrogen atom without neighbors\n",
      "[22:36:21] WARNING: not removing hydrogen atom without neighbors\n"
     ]
    }
   ],
   "source": [
    "from rdkit import Chem\n",
    "\n",
    "def get_canonical_smiles(smiles: str) -> str:\n",
    "    return Chem.MolToSmiles(Chem.MolFromSmiles(smiles), canonical=True)\n",
    "\n",
    "smiles_df['canonical_smiles'] = smiles_df['content'].apply(get_canonical_smiles)"
   ]
  },
  {
   "cell_type": "code",
   "execution_count": 8,
   "id": "c5156864",
   "metadata": {},
   "outputs": [],
   "source": [
    "smiles_df.to_csv(\"data/canonical_smiles.csv\")"
   ]
  },
  {
   "cell_type": "code",
   "execution_count": 5,
   "id": "9c1cc13a",
   "metadata": {},
   "outputs": [],
   "source": [
    "smiles_df = pd.read_csv(\"data/canonical_smiles.csv\")"
   ]
  },
  {
   "cell_type": "code",
   "execution_count": 7,
   "id": "bdfc9427",
   "metadata": {},
   "outputs": [],
   "source": [
    "not_match = smiles_df[smiles_df['content'] != smiles_df['canonical_smiles']]"
   ]
  },
  {
   "cell_type": "code",
   "execution_count": 9,
   "id": "a24ecc87",
   "metadata": {},
   "outputs": [
    {
     "name": "stderr",
     "output_type": "stream",
     "text": [
      "/tmp/ipykernel_838905/1056305118.py:1: SettingWithCopyWarning: \n",
      "A value is trying to be set on a copy of a slice from a DataFrame\n",
      "\n",
      "See the caveats in the documentation: https://pandas.pydata.org/pandas-docs/stable/user_guide/indexing.html#returning-a-view-versus-a-copy\n",
      "  not_match.rename(columns={'canonical_smiles': 'updated_content'}, inplace=True)\n"
     ]
    }
   ],
   "source": [
    "not_match.rename(columns={'canonical_smiles': 'updated_content'}, inplace=True)\n",
    "not_match[['nodeid', 'updated_content']].to_csv(\"data/canonical_smiles_renaming.csv\", index=False)"
   ]
  },
  {
   "cell_type": "code",
   "execution_count": null,
   "id": "eb4cd49a",
   "metadata": {},
   "outputs": [],
   "source": []
  }
 ],
 "metadata": {
  "kernelspec": {
   "display_name": "Python 3",
   "language": "python",
   "name": "python3"
  },
  "language_info": {
   "codemirror_mode": {
    "name": "ipython",
    "version": 3
   },
   "file_extension": ".py",
   "mimetype": "text/x-python",
   "name": "python",
   "nbconvert_exporter": "python",
   "pygments_lexer": "ipython3",
   "version": "3.11.13"
  }
 },
 "nbformat": 4,
 "nbformat_minor": 5
}
