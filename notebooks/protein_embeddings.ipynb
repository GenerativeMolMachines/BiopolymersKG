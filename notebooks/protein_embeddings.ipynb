{
 "cells": [
  {
   "cell_type": "code",
   "execution_count": 1,
   "id": "01a7b0df",
   "metadata": {},
   "outputs": [],
   "source": [
    "import os\n",
    "import dotenv\n",
    "\n",
    "dotenv.load_dotenv()\n",
    "os.chdir(os.environ[\"PYTHONPATH\"])"
   ]
  },
  {
   "cell_type": "markdown",
   "id": "57bc69da",
   "metadata": {},
   "source": [
    "# load the embedding model"
   ]
  },
  {
   "cell_type": "code",
   "execution_count": 2,
   "id": "c0ac2d46",
   "metadata": {},
   "outputs": [],
   "source": [
    "import torch\n",
    "from transformers import (\n",
    "    T5EncoderModel,\n",
    "    T5Tokenizer,\n",
    "    pipeline\n",
    ")"
   ]
  },
  {
   "cell_type": "code",
   "execution_count": 3,
   "id": "79802e14",
   "metadata": {},
   "outputs": [
    {
     "name": "stdout",
     "output_type": "stream",
     "text": [
      "cuda:0 is used\n"
     ]
    },
    {
     "name": "stderr",
     "output_type": "stream",
     "text": [
      "You are using the default legacy behaviour of the <class 'transformers.models.t5.tokenization_t5.T5Tokenizer'>. This is expected, and simply means that the `legacy` (previous) behavior will be used so nothing changes for you. If you want to use the new behaviour, set `legacy=False`. This should only be set if you understand what it means, and thoroughly read the reason why this was added as explained in https://github.com/huggingface/transformers/pull/24565\n",
      "Device set to use cuda:0\n"
     ]
    }
   ],
   "source": [
    "device = torch.device(\"cuda:0\")\n",
    "\n",
    "print(device, \"is used\")\n",
    "\n",
    "model_name = \"Rostlab/prot_t5_xl_uniref50\"\n",
    "\n",
    "tokenizer = T5Tokenizer.from_pretrained(model_name, do_lower_case=False)\n",
    "model = T5EncoderModel.from_pretrained(model_name).to(device)\n",
    "\n",
    "# if device == torch.device(\"cpu\"):\n",
    "    # model.to(torch.float32)\n",
    "\n",
    "embeddings_pipeline = pipeline(\"feature-extraction\", model=model, tokenizer=tokenizer)"
   ]
  },
  {
   "cell_type": "code",
   "execution_count": 13,
   "id": "459dcd66",
   "metadata": {},
   "outputs": [],
   "source": [
    "def embed_sequences(row):\n",
    "    row['sequence_embedding'] = embeddings_pipeline(row['sequence'])[0][0]\n",
    "    return row"
   ]
  },
  {
   "cell_type": "markdown",
   "id": "6e4e8e9f",
   "metadata": {},
   "source": [
    "# calculate embeddings and perform cluster analysis"
   ]
  },
  {
   "cell_type": "code",
   "execution_count": 8,
   "id": "54688928",
   "metadata": {},
   "outputs": [],
   "source": [
    "import pandas as pd\n",
    "from datasets import Dataset"
   ]
  },
  {
   "cell_type": "code",
   "execution_count": 6,
   "id": "5d9d2ee2",
   "metadata": {},
   "outputs": [
    {
     "data": {
      "text/html": [
       "<div>\n",
       "<style scoped>\n",
       "    .dataframe tbody tr th:only-of-type {\n",
       "        vertical-align: middle;\n",
       "    }\n",
       "\n",
       "    .dataframe tbody tr th {\n",
       "        vertical-align: top;\n",
       "    }\n",
       "\n",
       "    .dataframe thead th {\n",
       "        text-align: right;\n",
       "    }\n",
       "</style>\n",
       "<table border=\"1\" class=\"dataframe\">\n",
       "  <thead>\n",
       "    <tr style=\"text-align: right;\">\n",
       "      <th></th>\n",
       "      <th>hash</th>\n",
       "      <th>sequence</th>\n",
       "      <th>len</th>\n",
       "      <th>len_bin</th>\n",
       "    </tr>\n",
       "  </thead>\n",
       "  <tbody>\n",
       "    <tr>\n",
       "      <th>0</th>\n",
       "      <td>f4700b879aef8c84b62418d2a47de698e9e331176c8579...</td>\n",
       "      <td>MSSSSPSSQSRLSVPGRTPHLPPLTIPHTVSAEGLATPNTPHALLP...</td>\n",
       "      <td>529</td>\n",
       "      <td>(433.0, 689.0]</td>\n",
       "    </tr>\n",
       "    <tr>\n",
       "      <th>1</th>\n",
       "      <td>14d37ac5624cf44e84d31c34be0c59931899daa3fdcd16...</td>\n",
       "      <td>PHRYRPGTVALREIRRYQKSTELLIRKLPFQRLVREIAQDFKTDLR...</td>\n",
       "      <td>756</td>\n",
       "      <td>(689.0, 5890.0]</td>\n",
       "    </tr>\n",
       "    <tr>\n",
       "      <th>2</th>\n",
       "      <td>39abc653d9fbeddc04309795feae21d6fb4b1c4d1c2d15...</td>\n",
       "      <td>MGKYTKTAILSVYDKTGLLDLAKGLVENNVRILASGGTANMVREAG...</td>\n",
       "      <td>591</td>\n",
       "      <td>(433.0, 689.0]</td>\n",
       "    </tr>\n",
       "    <tr>\n",
       "      <th>3</th>\n",
       "      <td>1e4cca78876ecb4b0683037381aa0b7c2ef252ab746871...</td>\n",
       "      <td>MLEICLKLVGCKSKKGLSSSSSCYLEEALQRPVASDFEPQGLSEAA...</td>\n",
       "      <td>1130</td>\n",
       "      <td>(689.0, 5890.0]</td>\n",
       "    </tr>\n",
       "    <tr>\n",
       "      <th>4</th>\n",
       "      <td>d09efb0ddd42cab0c93f2137c542a6da14eb19c5eec283...</td>\n",
       "      <td>MGETLGDSPVDPEHGAFADALPMSTSQEITMVDTEMPFWPTNFGIS...</td>\n",
       "      <td>505</td>\n",
       "      <td>(433.0, 689.0]</td>\n",
       "    </tr>\n",
       "    <tr>\n",
       "      <th>...</th>\n",
       "      <td>...</td>\n",
       "      <td>...</td>\n",
       "      <td>...</td>\n",
       "      <td>...</td>\n",
       "    </tr>\n",
       "    <tr>\n",
       "      <th>63189</th>\n",
       "      <td>9a122fc06407b99169e30f2e0f63dd0d076dd27a3f863b...</td>\n",
       "      <td>MTWRQAVLLSCFSAVVLLSMLREGTSVSVGTMQMAGEEASEDAKQK...</td>\n",
       "      <td>138</td>\n",
       "      <td>(99.999, 278.0]</td>\n",
       "    </tr>\n",
       "    <tr>\n",
       "      <th>63190</th>\n",
       "      <td>c422d561d3c69cf4fe601b522a664fe7934008e982df9e...</td>\n",
       "      <td>MAEPASVTVTFDDVALYFSEQEWEILEKWQKQMYKQEMKTNYETLD...</td>\n",
       "      <td>752</td>\n",
       "      <td>(689.0, 5890.0]</td>\n",
       "    </tr>\n",
       "    <tr>\n",
       "      <th>63191</th>\n",
       "      <td>231ee06744cadd3f373b33cdaf191a22f6e98e7fdee8ad...</td>\n",
       "      <td>MLVVQMPFSFPMAHFILFVFTVSTIFHVQQRLAKIQAMWELPVQIP...</td>\n",
       "      <td>343</td>\n",
       "      <td>(278.0, 433.0]</td>\n",
       "    </tr>\n",
       "    <tr>\n",
       "      <th>63192</th>\n",
       "      <td>74ab43e422350613e89be6f5fde367457228794e235520...</td>\n",
       "      <td>MANDTHTDDLDELLDSALDDFKDLNLTQRNGGVKKEEGDKKETESL...</td>\n",
       "      <td>245</td>\n",
       "      <td>(99.999, 278.0]</td>\n",
       "    </tr>\n",
       "    <tr>\n",
       "      <th>63193</th>\n",
       "      <td>c864ed2df22b9dee315781a31ae4e4924c6b5320a1fd8e...</td>\n",
       "      <td>MPPILILLTLLLPLRAGAEEIIGGHEVKPHSRPYMARVRFVKDNGK...</td>\n",
       "      <td>248</td>\n",
       "      <td>(99.999, 278.0]</td>\n",
       "    </tr>\n",
       "  </tbody>\n",
       "</table>\n",
       "<p>63194 rows × 4 columns</p>\n",
       "</div>"
      ],
      "text/plain": [
       "                                                    hash  \\\n",
       "0      f4700b879aef8c84b62418d2a47de698e9e331176c8579...   \n",
       "1      14d37ac5624cf44e84d31c34be0c59931899daa3fdcd16...   \n",
       "2      39abc653d9fbeddc04309795feae21d6fb4b1c4d1c2d15...   \n",
       "3      1e4cca78876ecb4b0683037381aa0b7c2ef252ab746871...   \n",
       "4      d09efb0ddd42cab0c93f2137c542a6da14eb19c5eec283...   \n",
       "...                                                  ...   \n",
       "63189  9a122fc06407b99169e30f2e0f63dd0d076dd27a3f863b...   \n",
       "63190  c422d561d3c69cf4fe601b522a664fe7934008e982df9e...   \n",
       "63191  231ee06744cadd3f373b33cdaf191a22f6e98e7fdee8ad...   \n",
       "63192  74ab43e422350613e89be6f5fde367457228794e235520...   \n",
       "63193  c864ed2df22b9dee315781a31ae4e4924c6b5320a1fd8e...   \n",
       "\n",
       "                                                sequence   len  \\\n",
       "0      MSSSSPSSQSRLSVPGRTPHLPPLTIPHTVSAEGLATPNTPHALLP...   529   \n",
       "1      PHRYRPGTVALREIRRYQKSTELLIRKLPFQRLVREIAQDFKTDLR...   756   \n",
       "2      MGKYTKTAILSVYDKTGLLDLAKGLVENNVRILASGGTANMVREAG...   591   \n",
       "3      MLEICLKLVGCKSKKGLSSSSSCYLEEALQRPVASDFEPQGLSEAA...  1130   \n",
       "4      MGETLGDSPVDPEHGAFADALPMSTSQEITMVDTEMPFWPTNFGIS...   505   \n",
       "...                                                  ...   ...   \n",
       "63189  MTWRQAVLLSCFSAVVLLSMLREGTSVSVGTMQMAGEEASEDAKQK...   138   \n",
       "63190  MAEPASVTVTFDDVALYFSEQEWEILEKWQKQMYKQEMKTNYETLD...   752   \n",
       "63191  MLVVQMPFSFPMAHFILFVFTVSTIFHVQQRLAKIQAMWELPVQIP...   343   \n",
       "63192  MANDTHTDDLDELLDSALDDFKDLNLTQRNGGVKKEEGDKKETESL...   245   \n",
       "63193  MPPILILLTLLLPLRAGAEEIIGGHEVKPHSRPYMARVRFVKDNGK...   248   \n",
       "\n",
       "               len_bin  \n",
       "0       (433.0, 689.0]  \n",
       "1      (689.0, 5890.0]  \n",
       "2       (433.0, 689.0]  \n",
       "3      (689.0, 5890.0]  \n",
       "4       (433.0, 689.0]  \n",
       "...                ...  \n",
       "63189  (99.999, 278.0]  \n",
       "63190  (689.0, 5890.0]  \n",
       "63191   (278.0, 433.0]  \n",
       "63192  (99.999, 278.0]  \n",
       "63193  (99.999, 278.0]  \n",
       "\n",
       "[63194 rows x 4 columns]"
      ]
     },
     "execution_count": 6,
     "metadata": {},
     "output_type": "execute_result"
    }
   ],
   "source": [
    "prot_df = pd.read_csv(\"data/similarity/proteins.csv\")\n",
    "prot_df"
   ]
  },
  {
   "cell_type": "code",
   "execution_count": 9,
   "id": "230a07a0",
   "metadata": {},
   "outputs": [],
   "source": [
    "prot_dataset = Dataset.from_pandas(prot_df)"
   ]
  },
  {
   "cell_type": "code",
   "execution_count": 14,
   "id": "c0cde250",
   "metadata": {},
   "outputs": [
    {
     "data": {
      "application/vnd.jupyter.widget-view+json": {
       "model_id": "91f87fc611394535921324eb3e53849d",
       "version_major": 2,
       "version_minor": 0
      },
      "text/plain": [
       "Map:   0%|          | 0/63194 [00:00<?, ? examples/s]"
      ]
     },
     "metadata": {},
     "output_type": "display_data"
    }
   ],
   "source": [
    "embed_prot_dataset = prot_dataset.map(embed_sequences)"
   ]
  },
  {
   "cell_type": "code",
   "execution_count": 17,
   "id": "ff0d47e7",
   "metadata": {},
   "outputs": [
    {
     "data": {
      "application/vnd.jupyter.widget-view+json": {
       "model_id": "c4b8e368473f407abb63f4cf0cbb9bae",
       "version_major": 2,
       "version_minor": 0
      },
      "text/plain": [
       "Creating parquet from Arrow format:   0%|          | 0/64 [00:00<?, ?ba/s]"
      ]
     },
     "metadata": {},
     "output_type": "display_data"
    },
    {
     "data": {
      "text/plain": [
       "559890659"
      ]
     },
     "execution_count": 17,
     "metadata": {},
     "output_type": "execute_result"
    }
   ],
   "source": [
    "embed_prot_dataset.to_parquet(\"data/similarity/protein_embeddings.parquet.gzip\")"
   ]
  },
  {
   "cell_type": "code",
   "execution_count": null,
   "id": "6ebbe547",
   "metadata": {},
   "outputs": [],
   "source": [
    "kmeans = KMeans()"
   ]
  }
 ],
 "metadata": {
  "kernelspec": {
   "display_name": "Python 3 (ipykernel)",
   "language": "python",
   "name": "python3"
  },
  "language_info": {
   "codemirror_mode": {
    "name": "ipython",
    "version": 3
   },
   "file_extension": ".py",
   "mimetype": "text/x-python",
   "name": "python",
   "nbconvert_exporter": "python",
   "pygments_lexer": "ipython3",
   "version": "3.11.13"
  }
 },
 "nbformat": 4,
 "nbformat_minor": 5
}
