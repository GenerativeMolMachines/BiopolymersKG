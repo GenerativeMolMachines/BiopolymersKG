{
 "cells": [
  {
   "cell_type": "code",
   "execution_count": 1,
   "metadata": {},
   "outputs": [],
   "source": [
    "import os\n",
    "import pandas as pd"
   ]
  },
  {
   "cell_type": "code",
   "execution_count": 2,
   "metadata": {},
   "outputs": [],
   "source": [
    "def clean_name(x: str) -> str:\n",
    "    return x.lower().strip('.,?:;() ')\n",
    "\n",
    "\n",
    "def compare_dataframes(df1: pd.DataFrame, df2: pd.DataFrame) -> pd.DataFrame:\n",
    "    \"\"\"\n",
    "    Compares two datasets based on content column\n",
    "    \n",
    "    :returns: dataset containing duplicate entities\n",
    "    \"\"\"\n",
    "    # by content\n",
    "    # df_dupl = df1[df1['content'].isin(df2['content'])]\n",
    "    # df_dupl = df_dupl.merge(df2, on='content', how='left')\n",
    "\n",
    "    # by name\n",
    "    df1['trasn_name'] = df1['name'].apply(clean_name)\n",
    "    df2['trasn_name'] = df2['name'].apply(clean_name)\n",
    "\n",
    "    df_dupl = df1[df1['trasn_name'].isin(df2['trasn_name'])]\n",
    "    df_dupl = df_dupl.merge(df2, on='trasn_name', how='left')\n",
    "\n",
    "    return df_dupl"
   ]
  },
  {
   "cell_type": "code",
   "execution_count": 3,
   "metadata": {},
   "outputs": [],
   "source": [
    "def compare_datasets(path1: str, path2: str):\n",
    "    dupl_path = '../duplicates'\n",
    "    df1 = pd.read_csv(path1)\n",
    "    df2 = pd.read_csv(path2)\n",
    "\n",
    "    if 'name' not in df1.columns:\n",
    "        return\n",
    "\n",
    "    if 'name' not in df2.columns:\n",
    "        return\n",
    "\n",
    "    df_dupl = compare_dataframes(df1, df2)\n",
    "    name1 = os.path.splitext(path1)[0].split('/')[-1]\n",
    "    name2 = os.path.splitext(path2)[0].split('/')[-1]\n",
    "    df_dupl.to_csv(f'{dupl_path}/{name1}_{name2}_dupl.csv', index=False)"
   ]
  },
  {
   "cell_type": "code",
   "execution_count": 4,
   "metadata": {},
   "outputs": [],
   "source": [
    "data_dirs = os.listdir('../data')\n",
    "files = []\n",
    "\n",
    "for d in data_dirs:\n",
    "    files += ['../data/' + d + '/' + i for i in os.listdir('../data/' + d)]\n"
   ]
  },
  {
   "cell_type": "code",
   "execution_count": 5,
   "metadata": {},
   "outputs": [],
   "source": [
    "for i in range(len(files)):\n",
    "    for j in range(i + 1, len(files)):\n",
    "        compare_datasets(files[i], files[j])"
   ]
  },
  {
   "cell_type": "code",
   "execution_count": 6,
   "metadata": {},
   "outputs": [
    {
     "name": "stdout",
     "output_type": "stream",
     "text": [
      "repeats_target_viral_target_dupl.csv has duplicates\n",
      "molecule_data_mirna_target_dupl.csv has duplicates\n",
      "viral_target_ribosomal_target_dupl.csv has duplicates\n",
      "riboswitch_target_ribosomal_target_dupl.csv has duplicates\n",
      "repeats_target_ribosomal_target_dupl.csv has duplicates\n",
      "mirna_target_viral_target_dupl.csv has duplicates\n",
      "molecule_data_viral_target_dupl.csv has duplicates\n",
      "repeats_target_mirna_target_dupl.csv has duplicates\n",
      "molecule_data_riboswitch_target_dupl.csv has duplicates\n",
      "protein_data_molecule_data_dupl.csv has duplicates\n",
      "protein_data_protein_data_biogrid_dupl.csv has duplicates\n",
      "molecule_data_ribosomal_target_dupl.csv has duplicates\n",
      "mirna_target_ribosomal_target_dupl.csv has duplicates\n"
     ]
    }
   ],
   "source": [
    "dupl_files = os.listdir('../duplicates')\n",
    "for f in dupl_files:\n",
    "    df = pd.read_csv('../duplicates/' + f)\n",
    "    if df.shape[0] != 0:\n",
    "        print(f, 'has duplicates')\n",
    "    else:\n",
    "        os.remove('../duplicates/' + f)\n"
   ]
  },
  {
   "cell_type": "code",
   "execution_count": 7,
   "metadata": {},
   "outputs": [],
   "source": [
    "dupl_files = os.listdir('../duplicates')\n",
    "for f in dupl_files:\n",
    "    df = pd.read_csv('../duplicates/' + f)\n",
    "    res_idx = []\n",
    "    for idx in df.index:\n",
    "        if 'content_x' in df.columns and 'content_y' in df.columns:\n",
    "            if df.loc[idx]['content_x'] != df.loc[idx]['content_y']:\n",
    "                res_idx.append(idx)\n",
    "        else:\n",
    "            res_idx.append(idx)\n",
    "\n",
    "    res_df = df.iloc[res_idx]\n",
    "    res_df.to_csv(f'../duplicates/{f}', index=False)"
   ]
  },
  {
   "cell_type": "code",
   "execution_count": null,
   "metadata": {},
   "outputs": [],
   "source": []
  }
 ],
 "metadata": {
  "kernelspec": {
   "display_name": "kg",
   "language": "python",
   "name": "python3"
  },
  "language_info": {
   "codemirror_mode": {
    "name": "ipython",
    "version": 3
   },
   "file_extension": ".py",
   "mimetype": "text/x-python",
   "name": "python",
   "nbconvert_exporter": "python",
   "pygments_lexer": "ipython3",
   "version": "3.11.11"
  }
 },
 "nbformat": 4,
 "nbformat_minor": 2
}
